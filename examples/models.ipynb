{
 "cells": [
  {
   "cell_type": "markdown",
   "id": "f1e5f70f",
   "metadata": {},
   "source": [
    "Gather all the available Computer Vision Models"
   ]
  },
  {
   "cell_type": "code",
   "execution_count": 7,
   "id": "3b0f6179",
   "metadata": {},
   "outputs": [
    {
     "name": "stdout",
     "output_type": "stream",
     "text": [
      "Number of available models 1599\n"
     ]
    }
   ],
   "source": [
    "import timm\n",
    "avail_models = timm.list_models(pretrained=True)\n",
    "print(f'Number of available models {len(avail_models)}')\n",
    "avail_model_names = [str(avail_model) for avail_model in avail_models]\n"
   ]
  },
  {
   "cell_type": "markdown",
   "id": "caba4b1b",
   "metadata": {},
   "source": [
    "Only use models that come from distinct model families"
   ]
  },
  {
   "cell_type": "code",
   "execution_count": null,
   "id": "191e739a",
   "metadata": {},
   "outputs": [],
   "source": [
    "import json, re, pandas as pd\n",
    "\n",
    "def get_family(name: str) -> str:\n",
    "    import re\n",
    "    m = re.match(r'^([a-zA-Z]+)', name)\n",
    "    return m.group(1).lower() if m else name.split('_')[0].lower()\n",
    "\n",
    "families = {}\n",
    "for m in avail_model_names:\n",
    "    fam = get_family(m)\n",
    "    families.setdefault(fam, []).append(m)\n",
    "\n",
    "# Pick the first (alphabetically) model from each family\n",
    "one_per_family = [sorted(mlist)[0] for fam, mlist in sorted(families.items())]\n",
    "\n",
    "output_path = '../models/one_model_per_family.json'\n",
    "with open(output_path, 'w') as f:\n",
    "    json.dump(one_per_family, f, indent=2)\n"
   ]
  }
 ],
 "metadata": {
  "kernelspec": {
   "display_name": "realignhax",
   "language": "python",
   "name": "python3"
  },
  "language_info": {
   "codemirror_mode": {
    "name": "ipython",
    "version": 3
   },
   "file_extension": ".py",
   "mimetype": "text/x-python",
   "name": "python",
   "nbconvert_exporter": "python",
   "pygments_lexer": "ipython3",
   "version": "3.10.16"
  }
 },
 "nbformat": 4,
 "nbformat_minor": 5
}
